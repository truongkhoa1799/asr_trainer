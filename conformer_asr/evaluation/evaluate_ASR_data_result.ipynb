{
 "cells": [
  {
   "cell_type": "code",
   "execution_count": 12,
   "metadata": {},
   "outputs": [
    {
     "data": {
      "text/html": [
       "<div>\n",
       "<style scoped>\n",
       "    .dataframe tbody tr th:only-of-type {\n",
       "        vertical-align: middle;\n",
       "    }\n",
       "\n",
       "    .dataframe tbody tr th {\n",
       "        vertical-align: top;\n",
       "    }\n",
       "\n",
       "    .dataframe thead th {\n",
       "        text-align: right;\n",
       "    }\n",
       "</style>\n",
       "<table border=\"1\" class=\"dataframe\">\n",
       "  <thead>\n",
       "    <tr style=\"text-align: right;\">\n",
       "      <th></th>\n",
       "      <th>audio_filepath</th>\n",
       "      <th>text</th>\n",
       "      <th>pred</th>\n",
       "      <th>wer</th>\n",
       "    </tr>\n",
       "  </thead>\n",
       "  <tbody>\n",
       "    <tr>\n",
       "      <th>0</th>\n",
       "      <td>/home/khoatlv/data/data_collected/viettel/resa...</td>\n",
       "      <td>mở điều hòa ga ra</td>\n",
       "      <td>mở điều hoàng ra ra</td>\n",
       "      <td>0.4</td>\n",
       "    </tr>\n",
       "    <tr>\n",
       "      <th>1</th>\n",
       "      <td>/home/khoatlv/data/data_collected/viettel/resa...</td>\n",
       "      <td>mở điều hòa ga ra</td>\n",
       "      <td>mở điều hòa ga ra</td>\n",
       "      <td>0.0</td>\n",
       "    </tr>\n",
       "    <tr>\n",
       "      <th>2</th>\n",
       "      <td>/home/khoatlv/data/data_collected/viettel/resa...</td>\n",
       "      <td>mở điều hòa ga ra</td>\n",
       "      <td>mở điều hòa ga ra</td>\n",
       "      <td>0.0</td>\n",
       "    </tr>\n",
       "    <tr>\n",
       "      <th>3</th>\n",
       "      <td>/home/khoatlv/data/data_collected/viettel/resa...</td>\n",
       "      <td>bật nhạc</td>\n",
       "      <td>bật nhạc</td>\n",
       "      <td>0.0</td>\n",
       "    </tr>\n",
       "    <tr>\n",
       "      <th>4</th>\n",
       "      <td>/home/khoatlv/data/data_collected/viettel/resa...</td>\n",
       "      <td>bật nhạc</td>\n",
       "      <td>bật nhạc</td>\n",
       "      <td>0.0</td>\n",
       "    </tr>\n",
       "  </tbody>\n",
       "</table>\n",
       "</div>"
      ],
      "text/plain": [
       "                                      audio_filepath               text  \\\n",
       "0  /home/khoatlv/data/data_collected/viettel/resa...  mở điều hòa ga ra   \n",
       "1  /home/khoatlv/data/data_collected/viettel/resa...  mở điều hòa ga ra   \n",
       "2  /home/khoatlv/data/data_collected/viettel/resa...  mở điều hòa ga ra   \n",
       "3  /home/khoatlv/data/data_collected/viettel/resa...           bật nhạc   \n",
       "4  /home/khoatlv/data/data_collected/viettel/resa...           bật nhạc   \n",
       "\n",
       "                  pred  wer  \n",
       "0  mở điều hoàng ra ra  0.4  \n",
       "1    mở điều hòa ga ra  0.0  \n",
       "2    mở điều hòa ga ra  0.0  \n",
       "3             bật nhạc  0.0  \n",
       "4             bật nhạc  0.0  "
      ]
     },
     "execution_count": 12,
     "metadata": {},
     "output_type": "execute_result"
    }
   ],
   "source": [
    "import pandas as pd\n",
    "\n",
    "result_path = \"/home/khoatlv/Conformer_ASR/scripts/evaluation/eval_data/data_collected/data_log.csv\"\n",
    "data = pd.read_csv(result_path)\n",
    "data.head()"
   ]
  },
  {
   "cell_type": "code",
   "execution_count": 13,
   "metadata": {},
   "outputs": [
    {
     "data": {
      "text/plain": [
       "count    9141.000000\n",
       "mean        0.063162\n",
       "std         0.151095\n",
       "min         0.000000\n",
       "25%         0.000000\n",
       "50%         0.000000\n",
       "75%         0.000000\n",
       "max         1.500000\n",
       "Name: wer, dtype: float64"
      ]
     },
     "execution_count": 13,
     "metadata": {},
     "output_type": "execute_result"
    }
   ],
   "source": [
    "data['wer'].describe()"
   ]
  },
  {
   "cell_type": "code",
   "execution_count": 14,
   "metadata": {},
   "outputs": [
    {
     "data": {
      "text/plain": [
       "wer\n",
       "0.0    7351\n",
       "0.2    1211\n",
       "0.3      61\n",
       "0.4     149\n",
       "0.5     256\n",
       "0.6       3\n",
       "0.7      30\n",
       "0.8      28\n",
       "1.0      47\n",
       "1.5       5\n",
       "dtype: int64"
      ]
     },
     "execution_count": 14,
     "metadata": {},
     "output_type": "execute_result"
    }
   ],
   "source": [
    "data['wer'] = data['wer'].round(decimals=1)\n",
    "data.groupby('wer').size()"
   ]
  },
  {
   "cell_type": "code",
   "execution_count": 15,
   "metadata": {},
   "outputs": [
    {
     "data": {
      "text/html": [
       "<div>\n",
       "<style scoped>\n",
       "    .dataframe tbody tr th:only-of-type {\n",
       "        vertical-align: middle;\n",
       "    }\n",
       "\n",
       "    .dataframe tbody tr th {\n",
       "        vertical-align: top;\n",
       "    }\n",
       "\n",
       "    .dataframe thead th {\n",
       "        text-align: right;\n",
       "    }\n",
       "</style>\n",
       "<table border=\"1\" class=\"dataframe\">\n",
       "  <thead>\n",
       "    <tr style=\"text-align: right;\">\n",
       "      <th></th>\n",
       "      <th>audio_filepath</th>\n",
       "      <th>text</th>\n",
       "      <th>pred</th>\n",
       "      <th>wer</th>\n",
       "    </tr>\n",
       "  </thead>\n",
       "  <tbody>\n",
       "    <tr>\n",
       "      <th>59</th>\n",
       "      <td>/home/khoatlv/data/data_collected/viettel/resa...</td>\n",
       "      <td>giảm âm thanh</td>\n",
       "      <td>giảm hoàn thành</td>\n",
       "      <td>0.7</td>\n",
       "    </tr>\n",
       "    <tr>\n",
       "      <th>62</th>\n",
       "      <td>/home/khoatlv/data/data_collected/viettel/resa...</td>\n",
       "      <td>giảm âm thanh</td>\n",
       "      <td>dạ ngâm thành</td>\n",
       "      <td>1.0</td>\n",
       "    </tr>\n",
       "    <tr>\n",
       "      <th>70</th>\n",
       "      <td>/home/khoatlv/data/data_collected/viettel/resa...</td>\n",
       "      <td>tắt điện hành lang</td>\n",
       "      <td>tắc điền hà lan</td>\n",
       "      <td>1.0</td>\n",
       "    </tr>\n",
       "    <tr>\n",
       "      <th>79</th>\n",
       "      <td>/home/khoatlv/data/data_collected/viettel/resa...</td>\n",
       "      <td>mở điện toa lét</td>\n",
       "      <td>mở điện tòa nét</td>\n",
       "      <td>0.5</td>\n",
       "    </tr>\n",
       "    <tr>\n",
       "      <th>81</th>\n",
       "      <td>/home/khoatlv/data/data_collected/viettel/resa...</td>\n",
       "      <td>tắt quạt sân thượng</td>\n",
       "      <td>tác quạt sơn thượng</td>\n",
       "      <td>0.5</td>\n",
       "    </tr>\n",
       "    <tr>\n",
       "      <th>...</th>\n",
       "      <td>...</td>\n",
       "      <td>...</td>\n",
       "      <td>...</td>\n",
       "      <td>...</td>\n",
       "    </tr>\n",
       "    <tr>\n",
       "      <th>9136</th>\n",
       "      <td>/home/khoatlv/data/data_collected/Zalo/resampl...</td>\n",
       "      <td>nô va ơi</td>\n",
       "      <td>đồ ba ơi</td>\n",
       "      <td>0.7</td>\n",
       "    </tr>\n",
       "    <tr>\n",
       "      <th>9137</th>\n",
       "      <td>/home/khoatlv/data/data_collected/Zalo/resampl...</td>\n",
       "      <td>nô va ơi</td>\n",
       "      <td>đô cha ơi</td>\n",
       "      <td>0.7</td>\n",
       "    </tr>\n",
       "    <tr>\n",
       "      <th>9138</th>\n",
       "      <td>/home/khoatlv/data/data_collected/Zalo/resampl...</td>\n",
       "      <td>nô va ơi</td>\n",
       "      <td>đô ba ơi</td>\n",
       "      <td>0.7</td>\n",
       "    </tr>\n",
       "    <tr>\n",
       "      <th>9139</th>\n",
       "      <td>/home/khoatlv/data/data_collected/Zalo/resampl...</td>\n",
       "      <td>nô va ơi</td>\n",
       "      <td>đô và ấy</td>\n",
       "      <td>1.0</td>\n",
       "    </tr>\n",
       "    <tr>\n",
       "      <th>9140</th>\n",
       "      <td>/home/khoatlv/data/data_collected/Zalo/resampl...</td>\n",
       "      <td>nô va ơi</td>\n",
       "      <td>đôi trời ơi</td>\n",
       "      <td>0.7</td>\n",
       "    </tr>\n",
       "  </tbody>\n",
       "</table>\n",
       "<p>369 rows × 4 columns</p>\n",
       "</div>"
      ],
      "text/plain": [
       "                                         audio_filepath                 text  \\\n",
       "59    /home/khoatlv/data/data_collected/viettel/resa...        giảm âm thanh   \n",
       "62    /home/khoatlv/data/data_collected/viettel/resa...        giảm âm thanh   \n",
       "70    /home/khoatlv/data/data_collected/viettel/resa...   tắt điện hành lang   \n",
       "79    /home/khoatlv/data/data_collected/viettel/resa...      mở điện toa lét   \n",
       "81    /home/khoatlv/data/data_collected/viettel/resa...  tắt quạt sân thượng   \n",
       "...                                                 ...                  ...   \n",
       "9136  /home/khoatlv/data/data_collected/Zalo/resampl...             nô va ơi   \n",
       "9137  /home/khoatlv/data/data_collected/Zalo/resampl...             nô va ơi   \n",
       "9138  /home/khoatlv/data/data_collected/Zalo/resampl...             nô va ơi   \n",
       "9139  /home/khoatlv/data/data_collected/Zalo/resampl...             nô va ơi   \n",
       "9140  /home/khoatlv/data/data_collected/Zalo/resampl...             nô va ơi   \n",
       "\n",
       "                     pred  wer  \n",
       "59        giảm hoàn thành  0.7  \n",
       "62          dạ ngâm thành  1.0  \n",
       "70        tắc điền hà lan  1.0  \n",
       "79        mở điện tòa nét  0.5  \n",
       "81    tác quạt sơn thượng  0.5  \n",
       "...                   ...  ...  \n",
       "9136             đồ ba ơi  0.7  \n",
       "9137            đô cha ơi  0.7  \n",
       "9138             đô ba ơi  0.7  \n",
       "9139             đô và ấy  1.0  \n",
       "9140          đôi trời ơi  0.7  \n",
       "\n",
       "[369 rows x 4 columns]"
      ]
     },
     "execution_count": 15,
     "metadata": {},
     "output_type": "execute_result"
    }
   ],
   "source": [
    "wer = 0.5\n",
    "export_data = data[(data['wer'] >= wer)]\n",
    "export_data"
   ]
  },
  {
   "cell_type": "code",
   "execution_count": 16,
   "metadata": {},
   "outputs": [],
   "source": [
    "dataset_src = \"data_collected\"\n",
    "\n",
    "bad_data_path_excel = f\"/home/khoatlv/Conformer_ASR/scripts/evaluation/eval_data/{dataset_src}/wer_>={wer}.xlsx\"\n",
    "bad_data_path_csv = f\"/home/khoatlv/Conformer_ASR/scripts/evaluation/eval_data/{dataset_src}/wer_>={wer}.csv\"\n",
    "error_data_path = \"/home/khoatlv/Conformer_ASR/scripts/evaluation/eval_data/{dataset_src}/log_error_files.csv\"\n",
    "\n",
    "export_data.to_excel(bad_data_path_excel)\n",
    "export_data.to_csv(bad_data_path_csv, index=False)"
   ]
  },
  {
   "cell_type": "code",
   "execution_count": 27,
   "metadata": {},
   "outputs": [
    {
     "name": "stdout",
     "output_type": "stream",
     "text": [
      "3473\n",
      "3473\n"
     ]
    }
   ],
   "source": [
    "# import json\n",
    "# import os\n",
    "# def remove_bad_data(bad_data_path_csv, error_data_path):\n",
    "#     list_path = []\n",
    "#     header = True\n",
    "#     for i in open(bad_data_path_csv, mode='r', encoding='utf-8').readlines():\n",
    "#         if header:\n",
    "#             header = False\n",
    "#             continue\n",
    "#         line = i.split(',')\n",
    "#         list_path.append(line[0])\n",
    "    \n",
    "    \n",
    "#     for i in open(error_data_path, mode='r', encoding='utf-8').readlines():\n",
    "#         list_path.append(i.strip())\n",
    "    \n",
    "#     count = 0\n",
    "#     for i in list_path:\n",
    "#         if not os.path.exists(i):\n",
    "#             count += 1\n",
    "    \n",
    "#     print(len(list_path))\n",
    "#     print(count)\n",
    "\n",
    "# remove_bad_data(bad_data_path_csv, error_data_path)"
   ]
  },
  {
   "cell_type": "code",
   "execution_count": 25,
   "metadata": {},
   "outputs": [
    {
     "name": "stdout",
     "output_type": "stream",
     "text": [
      "122423 /home/khoatlv/data/vlsp2020/manifests/vlsp2020_set_01_manifest.json\n"
     ]
    }
   ],
   "source": [
    "! wc -l /home/khoatlv/data/vlsp2020/manifests/vlsp2020_set_01_manifest.json"
   ]
  },
  {
   "cell_type": "code",
   "execution_count": 35,
   "metadata": {},
   "outputs": [
    {
     "name": "stdout",
     "output_type": "stream",
     "text": [
      "122423\n",
      "118950 /home/khoatlv/data/vlsp2020/manifests/vlsp2020_set_01_manifest.json\n",
      "44554 /home/khoatlv/data/vlsp2020/manifests/vlsp2020_set_02_manifest.json\n",
      "122423 /home/khoatlv/Conformer_ASR/scripts/evaluation/vlsp_01_eval_manifests.json\n",
      "55188 /home/khoatlv/Conformer_ASR/scripts/evaluation/vlsp_02_eval_manifests.json\n"
     ]
    }
   ],
   "source": [
    "print(118950 + 3473)\n",
    "! wc -l /home/khoatlv/data/vlsp2020/manifests/vlsp2020_set_01_manifest.json\n",
    "! wc -l /home/khoatlv/data/vlsp2020/manifests/vlsp2020_set_02_manifest.json\n",
    "\n",
    "! wc -l /home/khoatlv/Conformer_ASR/scripts/evaluation/vlsp_01_eval_manifests.json\n",
    "! wc -l /home/khoatlv/Conformer_ASR/scripts/evaluation/vlsp_02_eval_manifests.json"
   ]
  },
  {
   "cell_type": "code",
   "execution_count": 16,
   "metadata": {},
   "outputs": [
    {
     "name": "stderr",
     "output_type": "stream",
     "text": [
      "playsound is relying on another python subprocess. Please use `pip install pygobject` if you want playsound to run more efficiently.\n",
      "Traceback (most recent call last):\n",
      "  File \"/usr/local/lib/python3.8/dist-packages/playsound.py\", line 261, in <module>\n",
      "    playsound(argv[1])\n",
      "  File \"/usr/local/lib/python3.8/dist-packages/playsound.py\", line 162, in _playsoundNix\n",
      "    import gi\n",
      "ModuleNotFoundError: No module named 'gi'\n"
     ]
    },
    {
     "ename": "CalledProcessError",
     "evalue": "Command '['/usr/bin/python3', '/usr/local/lib/python3.8/dist-packages/playsound.py', '/home/khoatlv/data/viettel/resample/21_hcm-diemmy_-1.wav']' returned non-zero exit status 1.",
     "output_type": "error",
     "traceback": [
      "\u001b[0;31m---------------------------------------------------------------------------\u001b[0m",
      "\u001b[0;31mCalledProcessError\u001b[0m                        Traceback (most recent call last)",
      "\u001b[1;32m/home/khoatlv/Conformer_ASR/scripts/evaluation/evaluate_result.ipynb Cell 10'\u001b[0m in \u001b[0;36m<cell line: 3>\u001b[0;34m()\u001b[0m\n\u001b[1;32m      <a href='vscode-notebook-cell://attached-container%2B7b22636f6e7461696e65724e616d65223a222f6e6f76615f617372222c2273657474696e6773223a7b22686f7374223a227373683a2f2f70686f7175616e227d7d/home/khoatlv/Conformer_ASR/scripts/evaluation/evaluate_result.ipynb#ch0000009vscode-remote?line=0'>1</a>\u001b[0m \u001b[39mimport\u001b[39;00m \u001b[39mplaysound\u001b[39;00m\n\u001b[0;32m----> <a href='vscode-notebook-cell://attached-container%2B7b22636f6e7461696e65724e616d65223a222f6e6f76615f617372222c2273657474696e6773223a7b22686f7374223a227373683a2f2f70686f7175616e227d7d/home/khoatlv/Conformer_ASR/scripts/evaluation/evaluate_result.ipynb#ch0000009vscode-remote?line=2'>3</a>\u001b[0m playsound\u001b[39m.\u001b[39;49mplaysound(\u001b[39m\"\u001b[39;49m\u001b[39m/home/khoatlv/data/viettel/resample/21_hcm-diemmy_-1.wav\u001b[39;49m\u001b[39m\"\u001b[39;49m)\n",
      "File \u001b[0;32m/usr/local/lib/python3.8/dist-packages/playsound.py:254\u001b[0m, in \u001b[0;36m<lambda>\u001b[0;34m(sound, block)\u001b[0m\n\u001b[1;32m    <a href='file:///usr/local/lib/python3.8/dist-packages/playsound.py?line=251'>252</a>\u001b[0m         \u001b[39mexcept\u001b[39;00m:\n\u001b[1;32m    <a href='file:///usr/local/lib/python3.8/dist-packages/playsound.py?line=252'>253</a>\u001b[0m             logger\u001b[39m.\u001b[39mwarning(\u001b[39m\"\u001b[39m\u001b[39mplaysound is relying on another python subprocess. Please use `pip install pygobject` if you want playsound to run more efficiently.\u001b[39m\u001b[39m\"\u001b[39m)\n\u001b[0;32m--> <a href='file:///usr/local/lib/python3.8/dist-packages/playsound.py?line=253'>254</a>\u001b[0m             playsound \u001b[39m=\u001b[39m \u001b[39mlambda\u001b[39;00m sound, block \u001b[39m=\u001b[39m \u001b[39mTrue\u001b[39;00m: _playsoundAnotherPython(\u001b[39m'\u001b[39;49m\u001b[39m/usr/bin/python3\u001b[39;49m\u001b[39m'\u001b[39;49m, sound, block, macOS \u001b[39m=\u001b[39;49m \u001b[39mFalse\u001b[39;49;00m)\n\u001b[1;32m    <a href='file:///usr/local/lib/python3.8/dist-packages/playsound.py?line=255'>256</a>\u001b[0m \u001b[39mdel\u001b[39;00m system\n\u001b[1;32m    <a href='file:///usr/local/lib/python3.8/dist-packages/playsound.py?line=257'>258</a>\u001b[0m \u001b[39mif\u001b[39;00m \u001b[39m__name__\u001b[39m \u001b[39m==\u001b[39m \u001b[39m'\u001b[39m\u001b[39m__main__\u001b[39m\u001b[39m'\u001b[39m:\n\u001b[1;32m    <a href='file:///usr/local/lib/python3.8/dist-packages/playsound.py?line=258'>259</a>\u001b[0m     \u001b[39m# block is always True if you choose to run this from the command line.\u001b[39;00m\n",
      "File \u001b[0;32m/usr/local/lib/python3.8/dist-packages/playsound.py:229\u001b[0m, in \u001b[0;36m_playsoundAnotherPython\u001b[0;34m(otherPython, sound, block, macOS)\u001b[0m\n\u001b[1;32m    <a href='file:///usr/local/lib/python3.8/dist-packages/playsound.py?line=226'>227</a>\u001b[0m t\u001b[39m.\u001b[39mstart()\n\u001b[1;32m    <a href='file:///usr/local/lib/python3.8/dist-packages/playsound.py?line=227'>228</a>\u001b[0m \u001b[39mif\u001b[39;00m block:\n\u001b[0;32m--> <a href='file:///usr/local/lib/python3.8/dist-packages/playsound.py?line=228'>229</a>\u001b[0m     t\u001b[39m.\u001b[39;49mjoin()\n",
      "File \u001b[0;32m/usr/local/lib/python3.8/dist-packages/playsound.py:218\u001b[0m, in \u001b[0;36m_playsoundAnotherPython.<locals>.PropogatingThread.join\u001b[0;34m(self, timeout)\u001b[0m\n\u001b[1;32m    <a href='file:///usr/local/lib/python3.8/dist-packages/playsound.py?line=215'>216</a>\u001b[0m \u001b[39msuper\u001b[39m()\u001b[39m.\u001b[39mjoin(timeout)\n\u001b[1;32m    <a href='file:///usr/local/lib/python3.8/dist-packages/playsound.py?line=216'>217</a>\u001b[0m \u001b[39mif\u001b[39;00m \u001b[39mself\u001b[39m\u001b[39m.\u001b[39mexc:\n\u001b[0;32m--> <a href='file:///usr/local/lib/python3.8/dist-packages/playsound.py?line=217'>218</a>\u001b[0m     \u001b[39mraise\u001b[39;00m \u001b[39mself\u001b[39m\u001b[39m.\u001b[39mexc\n\u001b[1;32m    <a href='file:///usr/local/lib/python3.8/dist-packages/playsound.py?line=218'>219</a>\u001b[0m \u001b[39mreturn\u001b[39;00m \u001b[39mself\u001b[39m\u001b[39m.\u001b[39mret\n",
      "File \u001b[0;32m/usr/local/lib/python3.8/dist-packages/playsound.py:211\u001b[0m, in \u001b[0;36m_playsoundAnotherPython.<locals>.PropogatingThread.run\u001b[0;34m(self)\u001b[0m\n\u001b[1;32m    <a href='file:///usr/local/lib/python3.8/dist-packages/playsound.py?line=208'>209</a>\u001b[0m \u001b[39mself\u001b[39m\u001b[39m.\u001b[39mexc \u001b[39m=\u001b[39m \u001b[39mNone\u001b[39;00m\n\u001b[1;32m    <a href='file:///usr/local/lib/python3.8/dist-packages/playsound.py?line=209'>210</a>\u001b[0m \u001b[39mtry\u001b[39;00m:\n\u001b[0;32m--> <a href='file:///usr/local/lib/python3.8/dist-packages/playsound.py?line=210'>211</a>\u001b[0m     \u001b[39mself\u001b[39m\u001b[39m.\u001b[39mret \u001b[39m=\u001b[39m \u001b[39mself\u001b[39;49m\u001b[39m.\u001b[39;49m_target(\u001b[39m*\u001b[39;49m\u001b[39mself\u001b[39;49m\u001b[39m.\u001b[39;49m_args, \u001b[39m*\u001b[39;49m\u001b[39m*\u001b[39;49m\u001b[39mself\u001b[39;49m\u001b[39m.\u001b[39;49m_kwargs)\n\u001b[1;32m    <a href='file:///usr/local/lib/python3.8/dist-packages/playsound.py?line=211'>212</a>\u001b[0m \u001b[39mexcept\u001b[39;00m \u001b[39mBaseException\u001b[39;00m \u001b[39mas\u001b[39;00m e:\n\u001b[1;32m    <a href='file:///usr/local/lib/python3.8/dist-packages/playsound.py?line=212'>213</a>\u001b[0m     \u001b[39mself\u001b[39m\u001b[39m.\u001b[39mexc \u001b[39m=\u001b[39m e\n",
      "File \u001b[0;32m/usr/local/lib/python3.8/dist-packages/playsound.py:226\u001b[0m, in \u001b[0;36m_playsoundAnotherPython.<locals>.<lambda>\u001b[0;34m()\u001b[0m\n\u001b[1;32m    <a href='file:///usr/local/lib/python3.8/dist-packages/playsound.py?line=222'>223</a>\u001b[0m     \u001b[39mraise\u001b[39;00m PlaysoundException(\u001b[39m'\u001b[39m\u001b[39mCannot find a sound with filename: \u001b[39m\u001b[39m'\u001b[39m \u001b[39m+\u001b[39m sound)\n\u001b[1;32m    <a href='file:///usr/local/lib/python3.8/dist-packages/playsound.py?line=224'>225</a>\u001b[0m playsoundPath \u001b[39m=\u001b[39m abspath(getsourcefile(\u001b[39mlambda\u001b[39;00m: \u001b[39m0\u001b[39m))\n\u001b[0;32m--> <a href='file:///usr/local/lib/python3.8/dist-packages/playsound.py?line=225'>226</a>\u001b[0m t \u001b[39m=\u001b[39m PropogatingThread(target \u001b[39m=\u001b[39m \u001b[39mlambda\u001b[39;00m: check_call([otherPython, playsoundPath, _handlePathOSX(sound) \u001b[39mif\u001b[39;49;00m macOS \u001b[39melse\u001b[39;49;00m sound]))\n\u001b[1;32m    <a href='file:///usr/local/lib/python3.8/dist-packages/playsound.py?line=226'>227</a>\u001b[0m t\u001b[39m.\u001b[39mstart()\n\u001b[1;32m    <a href='file:///usr/local/lib/python3.8/dist-packages/playsound.py?line=227'>228</a>\u001b[0m \u001b[39mif\u001b[39;00m block:\n",
      "File \u001b[0;32m/usr/lib/python3.8/subprocess.py:364\u001b[0m, in \u001b[0;36mcheck_call\u001b[0;34m(*popenargs, **kwargs)\u001b[0m\n\u001b[1;32m    <a href='file:///usr/lib/python3.8/subprocess.py?line=361'>362</a>\u001b[0m     \u001b[39mif\u001b[39;00m cmd \u001b[39mis\u001b[39;00m \u001b[39mNone\u001b[39;00m:\n\u001b[1;32m    <a href='file:///usr/lib/python3.8/subprocess.py?line=362'>363</a>\u001b[0m         cmd \u001b[39m=\u001b[39m popenargs[\u001b[39m0\u001b[39m]\n\u001b[0;32m--> <a href='file:///usr/lib/python3.8/subprocess.py?line=363'>364</a>\u001b[0m     \u001b[39mraise\u001b[39;00m CalledProcessError(retcode, cmd)\n\u001b[1;32m    <a href='file:///usr/lib/python3.8/subprocess.py?line=364'>365</a>\u001b[0m \u001b[39mreturn\u001b[39;00m \u001b[39m0\u001b[39m\n",
      "\u001b[0;31mCalledProcessError\u001b[0m: Command '['/usr/bin/python3', '/usr/local/lib/python3.8/dist-packages/playsound.py', '/home/khoatlv/data/viettel/resample/21_hcm-diemmy_-1.wav']' returned non-zero exit status 1."
     ]
    }
   ],
   "source": [
    "import playsound\n",
    "\n",
    "playsound.playsound(\"/home/khoatlv/data/viettel/resample/21_hcm-diemmy_-1.wav\")"
   ]
  }
 ],
 "metadata": {
  "interpreter": {
   "hash": "916dbcbb3f70747c44a77c7bcd40155683ae19c65e1c03b4aa3499c5328201f1"
  },
  "kernelspec": {
   "display_name": "Python 3.8.10 64-bit",
   "language": "python",
   "name": "python3"
  },
  "language_info": {
   "codemirror_mode": {
    "name": "ipython",
    "version": 3
   },
   "file_extension": ".py",
   "mimetype": "text/x-python",
   "name": "python",
   "nbconvert_exporter": "python",
   "pygments_lexer": "ipython3",
   "version": "3.8.12"
  },
  "orig_nbformat": 4
 },
 "nbformat": 4,
 "nbformat_minor": 2
}
