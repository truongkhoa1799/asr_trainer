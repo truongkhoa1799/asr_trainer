{
 "cells": [
  {
   "cell_type": "code",
   "execution_count": null,
   "metadata": {},
   "outputs": [],
   "source": [
    "import sys\n",
    "import torch\n",
    "sys.path.append('/home/khoatlv/ASR_Nemo')\n",
    "from nemo.collections.asr.models import EncDecCTCModel, EncDecCTCModelBPE"
   ]
  },
  {
   "cell_type": "code",
   "execution_count": null,
   "metadata": {},
   "outputs": [],
   "source": [
    "checkpoint_path=\"/home/khoatlv/ASR_Nemo/experiments/Conformer_small_Model_Language_vi/2022-09-10_08-42-22/checkpoints/Conformer_small_Model_Language_vi--val_wer=0.0730-epoch=17-last.ckpt\""
   ]
  },
  {
   "cell_type": "code",
   "execution_count": null,
   "metadata": {},
   "outputs": [],
   "source": [
    "model = EncDecCTCModel.load_from_checkpoint(checkpoint_path, map_locations='cuda', strict=False)"
   ]
  },
  {
   "cell_type": "code",
   "execution_count": null,
   "metadata": {},
   "outputs": [],
   "source": []
  },
  {
   "cell_type": "code",
   "execution_count": null,
   "metadata": {},
   "outputs": [],
   "source": [
    "model.save_to(\"/home/khoatlv/ASR_Nemo/experiments/old_checkpoint/2022-09-01/epoch_160.nemo\")"
   ]
  },
  {
   "cell_type": "code",
   "execution_count": null,
   "metadata": {},
   "outputs": [],
   "source": [
    "\n",
    "asr_model = EncDecCTCModelBPE.restore_from(\n",
    "    restore_path=\"/home/khoatlv/ASR_Nemo/experiments/old_checkpoint/2022-09-01/epoch_145.nemo\",\n",
    "    map_location='cuda'\n",
    ")\n",
    "\n",
    "model = EncDecCTCModel.restore_from(\n",
    "    restore_path=\"/home/khoatlv/ASR_Nemo/experiments/old_checkpoint/2022-09-01/epoch_160.nemo\",\n",
    "    map_location='cuda'\n",
    ")"
   ]
  },
  {
   "cell_type": "code",
   "execution_count": 12,
   "metadata": {},
   "outputs": [],
   "source": [
    "# asr_model.state_dict() = model.state_dict()\n",
    "# asr_model.load_state_dict(model.state_dict())\n",
    "asr_model.save_to(\"/home/khoatlv/ASR_Nemo/experiments/old_checkpoint/2022-09-01/epoch_160_1.nemo\")"
   ]
  },
  {
   "cell_type": "code",
   "execution_count": 13,
   "metadata": {},
   "outputs": [
    {
     "name": "stdout",
     "output_type": "stream",
     "text": [
      "[NeMo I 2022-09-13 03:02:06 mixins:166] Tokenizer SentencePieceTokenizer initialized with 256 tokens\n"
     ]
    },
    {
     "name": "stderr",
     "output_type": "stream",
     "text": [
      "[NeMo W 2022-09-13 03:02:07 modelPT:142] If you intend to do training or fine-tuning, please call the ModelPT.setup_training_data() method and provide a valid configuration file to setup the train data loader.\n",
      "    Train config : \n",
      "    manifest_filepath: /home/khoatlv/manifests/train_manifest_processed.json\n",
      "    sample_rate: 16000\n",
      "    max_duration: 16.7\n",
      "    min_duration: 0.1\n",
      "    is_tarred: false\n",
      "    tarred_audio_filepaths: null\n",
      "    shuffle_n: 2048\n",
      "    bucketing_strategy: synced_randomized\n",
      "    bucketing_batch_size: null\n",
      "    shuffle: true\n",
      "    batch_size: 32\n",
      "    pin_memory: true\n",
      "    trim_silence: true\n",
      "    use_start_end_token: true\n",
      "    normalize_transcripts: false\n",
      "    num_workers: 24\n",
      "    \n",
      "[NeMo W 2022-09-13 03:02:07 modelPT:149] If you intend to do validation, please call the ModelPT.setup_validation_data() or ModelPT.setup_multiple_validation_data() method and provide a valid configuration file to setup the validation data loader(s). \n",
      "    Validation config : \n",
      "    manifest_filepath: /home/khoatlv/manifests/test_manifest_processed.json\n",
      "    sample_rate: 16000\n",
      "    pin_memory: true\n",
      "    shuffle: false\n",
      "    batch_size: 8\n",
      "    trim_silence: true\n",
      "    use_start_end_token: true\n",
      "    normalize_transcripts: false\n",
      "    num_workers: 24\n",
      "    \n",
      "[NeMo W 2022-09-13 03:02:07 modelPT:155] Please call the ModelPT.setup_test_data() or ModelPT.setup_multiple_test_data() method and provide a valid configuration file to setup the test data loader(s).\n",
      "    Test config : \n",
      "    manifest_filepath: null\n",
      "    sample_rate: 16000\n",
      "    pin_memory: true\n",
      "    shuffle: false\n",
      "    batch_size: 8\n",
      "    trim_silence: true\n",
      "    use_start_end_token: true\n",
      "    normalize_transcripts: false\n",
      "    num_workers: 24\n",
      "    \n"
     ]
    },
    {
     "name": "stdout",
     "output_type": "stream",
     "text": [
      "[NeMo I 2022-09-13 03:02:07 features:217] PADDING: 0\n",
      "[NeMo I 2022-09-13 03:02:07 save_restore_connector:243] Model EncDecCTCModelBPE was successfully restored from /home/khoatlv/ASR_Nemo/experiments/old_checkpoint/2022-09-01/epoch_160_1.nemo.\n"
     ]
    }
   ],
   "source": [
    "asr_model_1 = EncDecCTCModelBPE.restore_from(\n",
    "    restore_path=\"/home/khoatlv/ASR_Nemo/experiments/old_checkpoint/2022-09-01/epoch_160_1.nemo\",\n",
    "    map_location='cuda'\n",
    ")"
   ]
  }
 ],
 "metadata": {
  "kernelspec": {
   "display_name": "Python 3.8.12 ('base')",
   "language": "python",
   "name": "python3"
  },
  "language_info": {
   "codemirror_mode": {
    "name": "ipython",
    "version": 3
   },
   "file_extension": ".py",
   "mimetype": "text/x-python",
   "name": "python",
   "nbconvert_exporter": "python",
   "pygments_lexer": "ipython3",
   "version": "3.8.12"
  },
  "orig_nbformat": 4,
  "vscode": {
   "interpreter": {
    "hash": "d4d1e4263499bec80672ea0156c357c1ee493ec2b1c70f0acce89fc37c4a6abe"
   }
  }
 },
 "nbformat": 4,
 "nbformat_minor": 2
}
