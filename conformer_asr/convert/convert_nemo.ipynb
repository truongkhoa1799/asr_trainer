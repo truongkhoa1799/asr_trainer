{
 "cells": [
  {
   "cell_type": "code",
   "execution_count": null,
   "metadata": {},
   "outputs": [],
   "source": [
    "import sys\n",
    "import torch\n",
    "sys.path.append('/home/khoatlv/ASR_Nemo')\n",
    "from nemo.collections.asr.models import EncDecCTCModel, EncDecCTCModelBPE"
   ]
  },
  {
   "cell_type": "code",
   "execution_count": null,
   "metadata": {},
   "outputs": [],
   "source": [
    "checkpoint_path=\"/home/khoatlv/ASR_Nemo/experiments/Conformer_small_Model_Language_vi/2022-09-10_08-42-22/checkpoints/Conformer_small_Model_Language_vi--val_wer=0.0730-epoch=17-last.ckpt\""
   ]
  },
  {
   "cell_type": "code",
   "execution_count": null,
   "metadata": {},
   "outputs": [],
   "source": [
    "model = EncDecCTCModel.load_from_checkpoint(checkpoint_path, map_locations='cuda', strict=False)"
   ]
  },
  {
   "cell_type": "code",
   "execution_count": null,
   "metadata": {},
   "outputs": [],
   "source": []
  },
  {
   "cell_type": "code",
   "execution_count": null,
   "metadata": {},
   "outputs": [],
   "source": [
    "model.save_to(\"/home/khoatlv/ASR_Nemo/experiments/old_checkpoint/2022-09-01/epoch_160.nemo\")"
   ]
  },
  {
   "cell_type": "code",
   "execution_count": null,
   "metadata": {},
   "outputs": [],
   "source": [
    "\n",
    "asr_model = EncDecCTCModelBPE.restore_from(\n",
    "    restore_path=\"/home/khoatlv/ASR_Nemo/experiments/old_checkpoint/2022-09-01/epoch_145.nemo\",\n",
    "    map_location='cuda'\n",
    ")\n",
    "\n",
    "model = EncDecCTCModel.restore_from(\n",
    "    restore_path=\"/home/khoatlv/ASR_Nemo/experiments/old_checkpoint/2022-09-01/epoch_160.nemo\",\n",
    "    map_location='cuda'\n",
    ")"
   ]
  },
  {
   "cell_type": "code",
   "execution_count": null,
   "metadata": {},
   "outputs": [],
   "source": [
    "# asr_model.state_dict() = model.state_dict()\n",
    "# asr_model.load_state_dict(model.state_dict())\n",
    "asr_model.save_to(\"/home/khoatlv/ASR_Nemo/experiments/old_checkpoint/2022-09-01/epoch_160_1.nemo\")"
   ]
  },
  {
   "cell_type": "code",
   "execution_count": null,
   "metadata": {},
   "outputs": [],
   "source": [
    "asr_model_1 = EncDecCTCModelBPE.restore_from(\n",
    "    restore_path=\"/home/khoatlv/ASR_Nemo/models/conformer/Conformer_small_Model_Language_vi_epoch=250.nemo\",\n",
    "    map_location='cpu'\n",
    ")"
   ]
  },
  {
   "cell_type": "code",
   "execution_count": 3,
   "metadata": {},
   "outputs": [
    {
     "name": "stdout",
     "output_type": "stream",
     "text": [
      "[NeMo I 2022-09-13 17:21:36 export_utils:291] Swapped 96 modules\n"
     ]
    },
    {
     "name": "stderr",
     "output_type": "stream",
     "text": [
      "[NeMo W 2022-09-13 17:21:36 nemo_logging:349] /opt/conda/lib/python3.8/site-packages/torch/_jit_internal.py:668: LightningDeprecationWarning: The `LightningModule.model_size` property was deprecated in v1.5 and will be removed in v1.7. Please use the `pytorch_lightning.utilities.memory.get_model_size_mb`.\n",
      "      if hasattr(mod, name):\n",
      "    \n",
      "[NeMo W 2022-09-13 17:21:37 nemo_logging:349] /opt/conda/lib/python3.8/site-packages/torch/_jit_internal.py:669: LightningDeprecationWarning: The `LightningModule.model_size` property was deprecated in v1.5 and will be removed in v1.7. Please use the `pytorch_lightning.utilities.memory.get_model_size_mb`.\n",
      "      item = getattr(mod, name)\n",
      "    \n",
      "[NeMo W 2022-09-13 17:21:37 nemo_logging:349] /opt/conda/lib/python3.8/site-packages/torch/_jit_internal.py:668: LightningDeprecationWarning: `LightningModule.use_amp` was deprecated in v1.6 and will be removed in v1.8. Please use `Trainer.amp_backend`.\n",
      "      if hasattr(mod, name):\n",
      "    \n",
      "[NeMo W 2022-09-13 17:21:37 nemo_logging:349] /opt/conda/lib/python3.8/site-packages/torch/_jit_internal.py:669: LightningDeprecationWarning: `LightningModule.use_amp` was deprecated in v1.6 and will be removed in v1.8. Please use `Trainer.amp_backend`.\n",
      "      item = getattr(mod, name)\n",
      "    \n",
      "[NeMo W 2022-09-13 17:21:38 nemo_logging:349] /home/khoatlv/ASR_Nemo/nemo/collections/asr/modules/conformer_encoder.py:248: TracerWarning: Converting a tensor to a Python boolean might cause the trace to be incorrect. We can't record the data flow of Python values, so this value will be treated as a constant in the future. This means that the trace might not generalize to other inputs!\n",
      "      if max_audio_length > self.max_audio_length:\n",
      "    \n"
     ]
    },
    {
     "name": "stdout",
     "output_type": "stream",
     "text": [
      "[NeMo I 2022-09-13 17:21:39 exportable:85] Successfully exported EncDecCTCModelBPE to /home/khoatlv/ASR_Nemo/models/conformer/Conformer_small_Model_Language_vi_epoch=250.pt\n"
     ]
    },
    {
     "data": {
      "text/plain": [
       "(['/home/khoatlv/ASR_Nemo/models/conformer/Conformer_small_Model_Language_vi_epoch=250.pt'],\n",
       " ['nemo.collections.asr.models.ctc_bpe_models.EncDecCTCModelBPE exported to ExportFormat.TORCHSCRIPT'])"
      ]
     },
     "execution_count": 3,
     "metadata": {},
     "output_type": "execute_result"
    }
   ],
   "source": [
    "asr_model_1.export(\"/home/khoatlv/ASR_Nemo/models/conformer/Conformer_small_Model_Language_vi_epoch=250.pt\")"
   ]
  }
 ],
 "metadata": {
  "kernelspec": {
   "display_name": "Python 3.8.12 ('base')",
   "language": "python",
   "name": "python3"
  },
  "language_info": {
   "codemirror_mode": {
    "name": "ipython",
    "version": 3
   },
   "file_extension": ".py",
   "mimetype": "text/x-python",
   "name": "python",
   "nbconvert_exporter": "python",
   "pygments_lexer": "ipython3",
   "version": "3.8.12"
  },
  "orig_nbformat": 4,
  "vscode": {
   "interpreter": {
    "hash": "d4d1e4263499bec80672ea0156c357c1ee493ec2b1c70f0acce89fc37c4a6abe"
   }
  }
 },
 "nbformat": 4,
 "nbformat_minor": 2
}
