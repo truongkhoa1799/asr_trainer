{
 "cells": [
  {
   "cell_type": "code",
   "execution_count": 1,
   "metadata": {},
   "outputs": [
    {
     "name": "stderr",
     "output_type": "stream",
     "text": [
      "################################################################################\n",
      "### WARNING, path does not exist: KALDI_ROOT=/mnt/matylda5/iveselyk/Tools/kaldi-trunk\n",
      "###          (please add 'export KALDI_ROOT=<your_path>' in your $HOME/.profile)\n",
      "###          (or run as: KALDI_ROOT=<your_path> python <your_script>.py)\n",
      "################################################################################\n",
      "\n"
     ]
    }
   ],
   "source": [
    "import os\n",
    "from omegaconf import OmegaConf, open_dict\n",
    "import nemo.collections.asr as nemo_asr\n",
    "from nemo.collections.asr.metrics.wer import word_error_rate\n",
    "from nemo.utils import exp_manager\n",
    "import nemo\n",
    "from omegaconf import OmegaConf\n",
    "# Manifest Utils\n",
    "from tqdm.auto import tqdm\n",
    "import json\n",
    "# Preprocessing steps\n",
    "import torch.nn as nn\n",
    "import pytorch_lightning as ptl\n",
    "import json\n",
    "from datetime import datetime"
   ]
  },
  {
   "cell_type": "code",
   "execution_count": 2,
   "metadata": {},
   "outputs": [],
   "source": [
    "WANDB_LOGGER = True\n",
    "ASR_DIR = \"/home/khoatlv/ASR-NEMO\"\n",
    "TOKENIZER_DIR = os.path.join(ASR_DIR, \"tokenizers\")\n",
    "\n",
    "model_path = \"/home/khoatlv/models/quarznet/stt_en_quartznet15x5.nemo\"\n",
    "model_config = \"config/quartznet_15x5.yaml\"\n",
    "config_path = os.path.join(ASR_DIR, model_config)\n",
    "\n",
    "train_manifest_cleaned = \"/home/khoatlv/manifests/train_manifest_processed.json\"\n",
    "test_manifest_cleaned = \"/home/khoatlv/manifests/test_manifest_processed.json\"\n",
    "\n",
    "train_set = None\n",
    "test_set = None"
   ]
  },
  {
   "cell_type": "code",
   "execution_count": 3,
   "metadata": {},
   "outputs": [],
   "source": [
    "def enable_bn_se(m):\n",
    "    if type(m) == nn.BatchNorm1d:\n",
    "        m.train()\n",
    "        for param in m.parameters():\n",
    "            param.requires_grad_(True)\n",
    "\n",
    "    if 'SqueezeExcite' in type(m).__name__:\n",
    "        m.train()\n",
    "        for param in m.parameters():\n",
    "            param.requires_grad_(True)\n",
    "\n",
    "def load_config(path):\n",
    "    config = OmegaConf.load(path)\n",
    "    config = OmegaConf.to_container(config, resolve=True)\n",
    "    config = OmegaConf.create(config)\n",
    "    \n",
    "    config.model.train_ds.manifest_filepath = train_manifest_cleaned\n",
    "    config.model.validation_ds.manifest_filepath = test_manifest_cleaned\n",
    "    config.model.test_ds.manifest_filepath = test_manifest_cleaned\n",
    "    \n",
    "    # config.model.train_ds.labels = list(train_set)\n",
    "    # config.model.validation_ds.labels = list(train_set)\n",
    "    # config.model.test_ds.labels = list(train_set)\n",
    "    \n",
    "    return config"
   ]
  },
  {
   "cell_type": "code",
   "execution_count": 5,
   "metadata": {},
   "outputs": [],
   "source": [
    "# import torch\n",
    "# check_point = torch.load(\n",
    "#     \"/home/khoatlv/ASR/nemo_experiments/QuartzNet12x1/2022-03-20_14-52-16/checkpoints/QuartzNet12x1--val_loss=26.3146-epoch=9-last.ckpt\",\n",
    "#     map_location='cuda'\n",
    "# )\n",
    "# print(check_point.keys())\n",
    "# check_point['hyper_parameters']['cfg']['beam_search_lm']['lm_path'] = \"/home/khoatlv/models/n_gram_model/4-gram-lm_large.bin\"\n",
    "# torch.save(check_point, \"/home/khoatlv/ASR/nemo_experiments/QuartzNet12x1/2022-03-20_14-52-16/checkpoints/cepoch_9_change_lm_path.ckpt\")\n",
    "\n",
    "# print(asr_model.cfg.keys())"
   ]
  },
  {
   "cell_type": "code",
   "execution_count": 6,
   "metadata": {},
   "outputs": [
    {
     "name": "stderr",
     "output_type": "stream",
     "text": [
      "[NeMo W 2022-03-24 06:44:48 modelPT:148] If you intend to do training or fine-tuning, please call the ModelPT.setup_training_data() method and provide a valid configuration file to setup the train data loader.\n",
      "    Train config : \n",
      "    manifest_filepath: /home/khoatlv/manifests/train_manifest_processed_processed.json\n",
      "    sample_rate: 16000\n",
      "    labels:\n",
      "    - b\n",
      "    - c\n",
      "    - d\n",
      "    - đ\n",
      "    - g\n",
      "    - h\n",
      "    - k\n",
      "    - l\n",
      "    - m\n",
      "    - 'n'\n",
      "    - p\n",
      "    - q\n",
      "    - r\n",
      "    - s\n",
      "    - t\n",
      "    - v\n",
      "    - x\n",
      "    - a\n",
      "    - á\n",
      "    - à\n",
      "    - ạ\n",
      "    - ã\n",
      "    - ả\n",
      "    - ă\n",
      "    - ắ\n",
      "    - ằ\n",
      "    - ặ\n",
      "    - ẵ\n",
      "    - ẳ\n",
      "    - â\n",
      "    - ấ\n",
      "    - ầ\n",
      "    - ậ\n",
      "    - ẫ\n",
      "    - ẩ\n",
      "    - e\n",
      "    - é\n",
      "    - è\n",
      "    - ẹ\n",
      "    - ẽ\n",
      "    - ẻ\n",
      "    - ê\n",
      "    - ế\n",
      "    - ề\n",
      "    - ệ\n",
      "    - ễ\n",
      "    - ể\n",
      "    - i\n",
      "    - í\n",
      "    - ì\n",
      "    - ị\n",
      "    - ĩ\n",
      "    - ỉ\n",
      "    - 'y'\n",
      "    - ý\n",
      "    - ỳ\n",
      "    - ỵ\n",
      "    - ỹ\n",
      "    - ỷ\n",
      "    - o\n",
      "    - ó\n",
      "    - ò\n",
      "    - ọ\n",
      "    - õ\n",
      "    - ỏ\n",
      "    - ô\n",
      "    - ố\n",
      "    - ồ\n",
      "    - ộ\n",
      "    - ỗ\n",
      "    - ổ\n",
      "    - ơ\n",
      "    - ớ\n",
      "    - ờ\n",
      "    - ợ\n",
      "    - ỡ\n",
      "    - ở\n",
      "    - u\n",
      "    - ú\n",
      "    - ù\n",
      "    - ụ\n",
      "    - ũ\n",
      "    - ủ\n",
      "    - ư\n",
      "    - ứ\n",
      "    - ừ\n",
      "    - ự\n",
      "    - ữ\n",
      "    - ử\n",
      "    - j\n",
      "    - f\n",
      "    - w\n",
      "    - z\n",
      "    - ' '\n",
      "    max_duration: 16.7\n",
      "    is_tarred: false\n",
      "    tarred_audio_filepaths: null\n",
      "    shuffle_n: 2048\n",
      "    bucketing_strategy: synced_randomized\n",
      "    bucketing_batch_size: null\n",
      "    shuffle: true\n",
      "    pin_memory: true\n",
      "    trim_silence: true\n",
      "    normalize_transcripts: false\n",
      "    batch_size: 16\n",
      "    num_workers: 24\n",
      "    \n",
      "[NeMo W 2022-03-24 06:44:48 modelPT:155] If you intend to do validation, please call the ModelPT.setup_validation_data() or ModelPT.setup_multiple_validation_data() method and provide a valid configuration file to setup the validation data loader(s). \n",
      "    Validation config : \n",
      "    manifest_filepath: /home/khoatlv/manifests/test_manifest_processed_processed.json\n",
      "    sample_rate: 16000\n",
      "    labels:\n",
      "    - b\n",
      "    - c\n",
      "    - d\n",
      "    - đ\n",
      "    - g\n",
      "    - h\n",
      "    - k\n",
      "    - l\n",
      "    - m\n",
      "    - 'n'\n",
      "    - p\n",
      "    - q\n",
      "    - r\n",
      "    - s\n",
      "    - t\n",
      "    - v\n",
      "    - x\n",
      "    - a\n",
      "    - á\n",
      "    - à\n",
      "    - ạ\n",
      "    - ã\n",
      "    - ả\n",
      "    - ă\n",
      "    - ắ\n",
      "    - ằ\n",
      "    - ặ\n",
      "    - ẵ\n",
      "    - ẳ\n",
      "    - â\n",
      "    - ấ\n",
      "    - ầ\n",
      "    - ậ\n",
      "    - ẫ\n",
      "    - ẩ\n",
      "    - e\n",
      "    - é\n",
      "    - è\n",
      "    - ẹ\n",
      "    - ẽ\n",
      "    - ẻ\n",
      "    - ê\n",
      "    - ế\n",
      "    - ề\n",
      "    - ệ\n",
      "    - ễ\n",
      "    - ể\n",
      "    - i\n",
      "    - í\n",
      "    - ì\n",
      "    - ị\n",
      "    - ĩ\n",
      "    - ỉ\n",
      "    - 'y'\n",
      "    - ý\n",
      "    - ỳ\n",
      "    - ỵ\n",
      "    - ỹ\n",
      "    - ỷ\n",
      "    - o\n",
      "    - ó\n",
      "    - ò\n",
      "    - ọ\n",
      "    - õ\n",
      "    - ỏ\n",
      "    - ô\n",
      "    - ố\n",
      "    - ồ\n",
      "    - ộ\n",
      "    - ỗ\n",
      "    - ổ\n",
      "    - ơ\n",
      "    - ớ\n",
      "    - ờ\n",
      "    - ợ\n",
      "    - ỡ\n",
      "    - ở\n",
      "    - u\n",
      "    - ú\n",
      "    - ù\n",
      "    - ụ\n",
      "    - ũ\n",
      "    - ủ\n",
      "    - ư\n",
      "    - ứ\n",
      "    - ừ\n",
      "    - ự\n",
      "    - ữ\n",
      "    - ử\n",
      "    - j\n",
      "    - f\n",
      "    - w\n",
      "    - z\n",
      "    - ' '\n",
      "    shuffle: false\n",
      "    pin_memory: true\n",
      "    trim_silence: true\n",
      "    normalize_transcripts: false\n",
      "    batch_size: 16\n",
      "    num_workers: 24\n",
      "    \n"
     ]
    },
    {
     "name": "stdout",
     "output_type": "stream",
     "text": [
      "[NeMo I 2022-03-24 06:44:48 features:255] PADDING: 16\n",
      "[NeMo I 2022-03-24 06:44:48 features:272] STFT using torch\n"
     ]
    }
   ],
   "source": [
    "\n",
    "# asr_model = nemo_asr.models.EncDecCTCModel.restore_from(\n",
    "#     \"/home/khoatlv/ASR-NEMO/models/quarznet/stt_en_quartznet15x5.nemo\",\n",
    "#     map_location='cuda'\n",
    "# )\n",
    "asr_model = nemo_asr.models.EncDecCTCModel.load_from_checkpoint(\n",
    "    \"/home/khoatlv/ASR-NEMO/experiments/ASR-Char-Model-Language-vi/2022-03-24_06-34-59/checkpoints/ASR-Char-Model-Language-vi--val_wer=0.7208-epoch=4-last.ckpt\",\n",
    "    map_location='cuda'\n",
    ")\n",
    "asr_model.export()"
   ]
  },
  {
   "cell_type": "code",
   "execution_count": 7,
   "metadata": {},
   "outputs": [
    {
     "name": "stderr",
     "output_type": "stream",
     "text": [
      "wandb: Appending key for api.wandb.ai to your netrc file: /root/.netrc\n"
     ]
    },
    {
     "name": "stdout",
     "output_type": "stream",
     "text": [
      "Model encoder has been frozen, and batch normalization has been unfrozen\n"
     ]
    },
    {
     "name": "stderr",
     "output_type": "stream",
     "text": [
      "[NeMo W 2022-03-24 06:44:50 ctc_models:328] Old ['b', 'c', 'd', 'đ', 'g', 'h', 'k', 'l', 'm', 'n', 'p', 'q', 'r', 's', 't', 'v', 'x', 'a', 'á', 'à', 'ạ', 'ã', 'ả', 'ă', 'ắ', 'ằ', 'ặ', 'ẵ', 'ẳ', 'â', 'ấ', 'ầ', 'ậ', 'ẫ', 'ẩ', 'e', 'é', 'è', 'ẹ', 'ẽ', 'ẻ', 'ê', 'ế', 'ề', 'ệ', 'ễ', 'ể', 'i', 'í', 'ì', 'ị', 'ĩ', 'ỉ', 'y', 'ý', 'ỳ', 'ỵ', 'ỹ', 'ỷ', 'o', 'ó', 'ò', 'ọ', 'õ', 'ỏ', 'ô', 'ố', 'ồ', 'ộ', 'ỗ', 'ổ', 'ơ', 'ớ', 'ờ', 'ợ', 'ỡ', 'ở', 'u', 'ú', 'ù', 'ụ', 'ũ', 'ủ', 'ư', 'ứ', 'ừ', 'ự', 'ữ', 'ử', 'j', 'f', 'w', 'z', ' '] and new ['b', 'c', 'd', 'đ', 'g', 'h', 'k', 'l', 'm', 'n', 'p', 'q', 'r', 's', 't', 'v', 'x', 'a', 'á', 'à', 'ạ', 'ã', 'ả', 'ă', 'ắ', 'ằ', 'ặ', 'ẵ', 'ẳ', 'â', 'ấ', 'ầ', 'ậ', 'ẫ', 'ẩ', 'e', 'é', 'è', 'ẹ', 'ẽ', 'ẻ', 'ê', 'ế', 'ề', 'ệ', 'ễ', 'ể', 'i', 'í', 'ì', 'ị', 'ĩ', 'ỉ', 'y', 'ý', 'ỳ', 'ỵ', 'ỹ', 'ỷ', 'o', 'ó', 'ò', 'ọ', 'õ', 'ỏ', 'ô', 'ố', 'ồ', 'ộ', 'ỗ', 'ổ', 'ơ', 'ớ', 'ờ', 'ợ', 'ỡ', 'ở', 'u', 'ú', 'ù', 'ụ', 'ũ', 'ủ', 'ư', 'ứ', 'ừ', 'ự', 'ữ', 'ử', 'j', 'f', 'w', 'z', ' '] match. Not changing anything.\n"
     ]
    },
    {
     "name": "stdout",
     "output_type": "stream",
     "text": [
      "[NeMo I 2022-03-24 06:44:50 collections:173] Dataset loaded with 419 files totalling 0.44 hours\n",
      "[NeMo I 2022-03-24 06:44:50 collections:174] 0 files were filtered totalling 0.00 hours\n",
      "[NeMo I 2022-03-24 06:44:50 collections:173] Dataset loaded with 197 files totalling 0.23 hours\n",
      "[NeMo I 2022-03-24 06:44:50 collections:174] 0 files were filtered totalling 0.00 hours\n"
     ]
    },
    {
     "name": "stderr",
     "output_type": "stream",
     "text": [
      "[NeMo W 2022-03-24 06:44:50 modelPT:475] Trainer wasn't specified in model constructor. Make sure that you really wanted it.\n"
     ]
    },
    {
     "name": "stdout",
     "output_type": "stream",
     "text": [
      "[NeMo I 2022-03-24 06:44:50 modelPT:587] Optimizer config = Novograd (\n",
      "    Parameter Group 0\n",
      "        amsgrad: False\n",
      "        betas: [0.95, 0.25]\n",
      "        eps: 1e-08\n",
      "        grad_averaging: False\n",
      "        lr: 0.01\n",
      "        weight_decay: 0.001\n",
      "    )\n"
     ]
    },
    {
     "name": "stderr",
     "output_type": "stream",
     "text": [
      "[NeMo W 2022-03-24 06:44:50 lr_scheduler:816] Neither `max_steps` nor `iters_per_batch` were provided to `optim.sched`, cannot compute effective `max_steps` !\n",
      "    Scheduler will not be instantiated !\n",
      "[NeMo W 2022-03-24 06:44:50 nemo_logging:349] /usr/local/lib/python3.8/dist-packages/pytorch_lightning/loops/epoch/training_epoch_loop.py:48: LightningDeprecationWarning: Setting `max_steps = None` is deprecated in v1.5 and will no longer be supported in v1.7. Use `max_steps = -1` instead.\n",
      "      rank_zero_deprecation(\n",
      "    \n",
      "GPU available: True, used: True\n",
      "TPU available: False, using: 0 TPU cores\n",
      "IPU available: False, using: 0 IPUs\n"
     ]
    },
    {
     "name": "stdout",
     "output_type": "stream",
     "text": [
      "[NeMo I 2022-03-24 06:44:50 exp_manager:283] Experiments will be logged at /home/khoatlv/ASR-NEMO/experiments/ASR-Char-Model-Language-vi/2022-03-24_06-44-50\n"
     ]
    },
    {
     "name": "stderr",
     "output_type": "stream",
     "text": [
      "[NeMo W 2022-03-24 06:44:50 exp_manager:881] The checkpoint callback was told to monitor a validation value and trainer's max_steps was set to -1. Please ensure that max_steps will run for at least 1 epochs to ensure that checkpointing will not error out.\n"
     ]
    }
   ],
   "source": [
    "os.system(\"wandb login {}\".format(\"03f1412a8edbcb2869809c69eb534d8b803365b2\"))\n",
    "freeze_encoder = True \n",
    "freeze_encoder = bool(freeze_encoder)\n",
    "\n",
    "if freeze_encoder:\n",
    "    asr_model.encoder.freeze()\n",
    "    asr_model.encoder.apply(enable_bn_se)\n",
    "    print(\"Model encoder has been frozen, and batch normalization has been unfrozen\")\n",
    "else:\n",
    "    asr_model.encoder.unfreeze()\n",
    "    print(\"Model encoder has been un-frozen\")\n",
    "\n",
    "config = load_config(config_path)\n",
    "asr_model.change_vocabulary(new_vocabulary=list(config.model.labels))\n",
    "\n",
    "asr_model.cfg.labels = list(config.model.labels)\n",
    "asr_model.setup_training_data(config.model.train_ds)\n",
    "asr_model.setup_multiple_validation_data(config.model.validation_ds)\n",
    "\n",
    "with open_dict(asr_model.cfg):\n",
    "    asr_model.cfg.optim = config.model.optim\n",
    "    asr_model.cfg.spec_augment = config.model.spec_augment    \n",
    "    \n",
    "asr_model.spec_augmentation = asr_model.from_config_dict(config.model.spec_augment)\n",
    "asr_model.setup_optimization(config.model.optim)\n",
    "\n",
    "asr_model._wer.use_cer = True\n",
    "asr_model._wer.log_prediction = True\n",
    "\n",
    "trainer = ptl.Trainer(**config.trainer)\n",
    "asr_model.set_trainer(trainer)\n",
    "asr_model.cfg = asr_model._cfg\n",
    "\n",
    "exp_config = exp_manager.ExpManagerConfig(**config.exp_manager)\n",
    "exp_config = OmegaConf.structured(exp_config)\n",
    "logdir = exp_manager.exp_manager(trainer, exp_config)"
   ]
  },
  {
   "cell_type": "code",
   "execution_count": 8,
   "metadata": {},
   "outputs": [
    {
     "name": "stderr",
     "output_type": "stream",
     "text": [
      "LOCAL_RANK: 0 - CUDA_VISIBLE_DEVICES: [0]\n",
      "[NeMo W 2022-03-24 06:44:51 modelPT:496] The lightning trainer received accelerator: <pytorch_lightning.accelerators.gpu.GPUAccelerator object at 0x7fbb5b31ed60>. We recommend to use 'ddp' instead.\n"
     ]
    },
    {
     "name": "stdout",
     "output_type": "stream",
     "text": [
      "Starting train model\n",
      "[NeMo I 2022-03-24 06:44:51 modelPT:587] Optimizer config = Novograd (\n",
      "    Parameter Group 0\n",
      "        amsgrad: False\n",
      "        betas: [0.95, 0.25]\n",
      "        eps: 1e-08\n",
      "        grad_averaging: False\n",
      "        lr: 0.01\n",
      "        weight_decay: 0.001\n",
      "    )\n",
      "[NeMo I 2022-03-24 06:44:51 lr_scheduler:833] Scheduler \"<nemo.core.optim.lr_scheduler.CosineAnnealing object at 0x7fbb5b259e50>\" \n",
      "    will be used during training (effective maximum steps = 135) - \n",
      "    Parameters : \n",
      "    (warmup_steps: null\n",
      "    warmup_ratio: 0.05\n",
      "    min_lr: 1.0e-05\n",
      "    last_epoch: -1\n",
      "    max_steps: 135\n",
      "    )\n"
     ]
    },
    {
     "name": "stderr",
     "output_type": "stream",
     "text": [
      "\n",
      "  | Name              | Type                              | Params\n",
      "------------------------------------------------------------------------\n",
      "0 | preprocessor      | AudioToMelSpectrogramPreprocessor | 0     \n",
      "1 | encoder           | ConvASREncoder                    | 18.9 M\n",
      "2 | decoder           | ConvASRDecoder                    | 97.4 K\n",
      "3 | loss              | CTCLoss                           | 0     \n",
      "4 | spec_augmentation | SpectrogramAugmentation           | 0     \n",
      "5 | _wer              | WER                               | 0     \n",
      "------------------------------------------------------------------------\n",
      "174 K     Trainable params\n",
      "18.8 M    Non-trainable params\n",
      "19.0 M    Total params\n",
      "75.968    Total estimated model params size (MB)\n"
     ]
    },
    {
     "data": {
      "application/vnd.jupyter.widget-view+json": {
       "model_id": "b2b7599592cb41818b038f725b6246e8",
       "version_major": 2,
       "version_minor": 0
      },
      "text/plain": [
       "Validation sanity check: 0it [00:00, ?it/s]"
      ]
     },
     "metadata": {},
     "output_type": "display_data"
    },
    {
     "name": "stdout",
     "output_type": "stream",
     "text": [
      "[NeMo I 2022-03-24 06:44:53 wer:244] \n",
      "    \n",
      "[NeMo I 2022-03-24 06:44:53 wer:245] reference:em liền gọi to\n",
      "[NeMo I 2022-03-24 06:44:53 wer:246] predicted:nh hn h\n",
      "[NeMo I 2022-03-24 06:44:53 wer:244] \n",
      "    \n",
      "[NeMo I 2022-03-24 06:44:53 wer:245] reference:tháng mười mộtchờ mong duyên mới\n",
      "[NeMo I 2022-03-24 06:44:53 wer:246] predicted:n hn hn hn \n"
     ]
    },
    {
     "data": {
      "application/vnd.jupyter.widget-view+json": {
       "model_id": "e1096fa8968b467f97ea2056b78e6d81",
       "version_major": 2,
       "version_minor": 0
      },
      "text/plain": [
       "Training: 0it [00:00, ?it/s]"
      ]
     },
     "metadata": {},
     "output_type": "display_data"
    },
    {
     "name": "stdout",
     "output_type": "stream",
     "text": [
      "[NeMo I 2022-03-24 06:44:57 wer:244] \n",
      "    \n",
      "[NeMo I 2022-03-24 06:44:57 wer:245] reference:dạ nhớ bà dã quỳ ông là\n",
      "[NeMo I 2022-03-24 06:44:57 wer:246] predicted:  hn n đ n\n",
      "[NeMo I 2022-03-24 06:44:59 wer:244] \n",
      "    \n",
      "[NeMo I 2022-03-24 06:44:59 wer:245] reference:hay là tay sai cho quỷ thì thực sự rất là khủng khiếp\n",
      "[NeMo I 2022-03-24 06:44:59 wer:246] predicted:th h chà hn hàn han han chn han cha chn h\n"
     ]
    },
    {
     "data": {
      "application/vnd.jupyter.widget-view+json": {
       "model_id": "c92e050c08a94f4cab2cec3f2a9cae60",
       "version_major": 2,
       "version_minor": 0
      },
      "text/plain": [
       "Validating: 0it [00:00, ?it/s]"
      ]
     },
     "metadata": {},
     "output_type": "display_data"
    },
    {
     "name": "stdout",
     "output_type": "stream",
     "text": [
      "[NeMo I 2022-03-24 06:45:03 wer:244] \n",
      "    \n",
      "[NeMo I 2022-03-24 06:45:03 wer:245] reference:em liền gọi to\n",
      "[NeMo I 2022-03-24 06:45:03 wer:246] predicted: \n",
      "[NeMo I 2022-03-24 06:45:03 wer:244] \n",
      "    \n",
      "[NeMo I 2022-03-24 06:45:03 wer:245] reference:tháng mười mộtchờ mong duyên mới\n",
      "[NeMo I 2022-03-24 06:45:03 wer:246] predicted: h \n",
      "[NeMo I 2022-03-24 06:45:03 wer:244] \n",
      "    \n",
      "[NeMo I 2022-03-24 06:45:03 wer:245] reference:ngày thơ đi mất\n",
      "[NeMo I 2022-03-24 06:45:03 wer:246] predicted: \n",
      "[NeMo I 2022-03-24 06:45:03 wer:244] \n",
      "    \n",
      "[NeMo I 2022-03-24 06:45:03 wer:245] reference:bố liền nói\n",
      "[NeMo I 2022-03-24 06:45:03 wer:246] predicted: \n",
      "[NeMo I 2022-03-24 06:45:03 wer:244] \n",
      "    \n",
      "[NeMo I 2022-03-24 06:45:03 wer:245] reference:trích dẫn từ báo chí\n",
      "[NeMo I 2022-03-24 06:45:03 wer:246] predicted: h \n",
      "[NeMo I 2022-03-24 06:45:03 wer:244] \n",
      "    \n",
      "[NeMo I 2022-03-24 06:45:03 wer:245] reference:dạ bẩm thầy giờ đã muộn rồi à\n",
      "[NeMo I 2022-03-24 06:45:03 wer:246] predicted: h \n",
      "[NeMo I 2022-03-24 06:45:03 wer:244] \n",
      "    \n",
      "[NeMo I 2022-03-24 06:45:03 wer:245] reference:những anh em dân tộc khác thì rất hiếu khách và cởi mở\n",
      "[NeMo I 2022-03-24 06:45:03 wer:246] predicted: à h h h \n",
      "[NeMo I 2022-03-24 06:45:03 wer:244] \n",
      "    \n",
      "[NeMo I 2022-03-24 06:45:03 wer:245] reference:vả lại\n",
      "[NeMo I 2022-03-24 06:45:03 wer:246] predicted: \n",
      "[NeMo I 2022-03-24 06:45:04 wer:244] \n",
      "    \n",
      "[NeMo I 2022-03-24 06:45:04 wer:245] reference:để cho em học\n",
      "[NeMo I 2022-03-24 06:45:04 wer:246] predicted: \n",
      "[NeMo I 2022-03-24 06:45:04 wer:244] \n",
      "    \n",
      "[NeMo I 2022-03-24 06:45:04 wer:245] reference:lập tức cơn đau lại nhói lên dữ dội\n",
      "[NeMo I 2022-03-24 06:45:04 wer:246] predicted: h h \n",
      "[NeMo I 2022-03-24 06:45:04 wer:244] \n",
      "    \n",
      "[NeMo I 2022-03-24 06:45:04 wer:245] reference:na ngoan của mẹ\n",
      "[NeMo I 2022-03-24 06:45:04 wer:246] predicted: \n",
      "[NeMo I 2022-03-24 06:45:04 wer:244] \n",
      "    \n",
      "[NeMo I 2022-03-24 06:45:04 wer:245] reference:sau đó bị đấu đá đến nghẹt thở\n",
      "[NeMo I 2022-03-24 06:45:04 wer:246] predicted: h \n",
      "[NeMo I 2022-03-24 06:45:04 wer:244] \n",
      "    \n",
      "[NeMo I 2022-03-24 06:45:04 wer:245] reference:những lời nói của quân khiến cho trinh như chết lặng\n",
      "[NeMo I 2022-03-24 06:45:04 wer:246] predicted:  h h h \n"
     ]
    },
    {
     "name": "stderr",
     "output_type": "stream",
     "text": [
      "Epoch 0, global step 26: val_wer reached 0.90281 (best 0.90281), saving model to \"/home/khoatlv/ASR-NEMO/experiments/ASR-Char-Model-Language-vi/2022-03-24_06-44-50/checkpoints/ASR-Char-Model-Language-vi--val_wer=0.9028-epoch=0.ckpt\" as top 3\n",
      "Exception ignored in: <function _releaseLock at 0x7fbcb9d56040>\n",
      "Traceback (most recent call last):\n",
      "  File \"/usr/lib/python3.8/logging/__init__.py\", line 227, in _releaseLock\n",
      "    def _releaseLock():\n",
      "KeyboardInterrupt: \n"
     ]
    },
    {
     "name": "stdout",
     "output_type": "stream",
     "text": [
      "[NeMo I 2022-03-24 06:45:10 wer:244] \n",
      "    \n",
      "[NeMo I 2022-03-24 06:45:10 wer:245] reference:biển trời tình mẹ\n",
      "[NeMo I 2022-03-24 06:45:10 wer:246] predicted: đhn h ni\n",
      "[NeMo I 2022-03-24 06:45:12 wer:244] \n",
      "    \n",
      "[NeMo I 2022-03-24 06:45:12 wer:245] reference:bởi đối với cô\n",
      "[NeMo I 2022-03-24 06:45:12 wer:246] predicted: hng hàn h\n"
     ]
    },
    {
     "data": {
      "application/vnd.jupyter.widget-view+json": {
       "model_id": "072a879ee2004af0b1d773c7e33c0617",
       "version_major": 2,
       "version_minor": 0
      },
      "text/plain": [
       "Validating: 0it [00:00, ?it/s]"
      ]
     },
     "metadata": {},
     "output_type": "display_data"
    },
    {
     "name": "stdout",
     "output_type": "stream",
     "text": [
      "[NeMo I 2022-03-24 06:45:16 wer:244] \n",
      "    \n",
      "[NeMo I 2022-03-24 06:45:16 wer:245] reference:em liền gọi to\n",
      "[NeMo I 2022-03-24 06:45:16 wer:246] predicted: hàn h h\n",
      "[NeMo I 2022-03-24 06:45:16 wer:244] \n",
      "    \n",
      "[NeMo I 2022-03-24 06:45:16 wer:245] reference:tháng mười mộtchờ mong duyên mới\n",
      "[NeMo I 2022-03-24 06:45:16 wer:246] predicted: ch h h h\n",
      "[NeMo I 2022-03-24 06:45:16 wer:244] \n",
      "    \n",
      "[NeMo I 2022-03-24 06:45:16 wer:245] reference:ngày thơ đi mất\n",
      "[NeMo I 2022-03-24 06:45:16 wer:246] predicted: h ch h\n",
      "[NeMo I 2022-03-24 06:45:16 wer:244] \n",
      "    \n",
      "[NeMo I 2022-03-24 06:45:16 wer:245] reference:bố liền nói\n",
      "[NeMo I 2022-03-24 06:45:16 wer:246] predicted: h\n",
      "[NeMo I 2022-03-24 06:45:16 wer:244] \n",
      "    \n",
      "[NeMo I 2022-03-24 06:45:16 wer:245] reference:trích dẫn từ báo chí\n",
      "[NeMo I 2022-03-24 06:45:16 wer:246] predicted: ch  h\n",
      "[NeMo I 2022-03-24 06:45:16 wer:244] \n",
      "    \n",
      "[NeMo I 2022-03-24 06:45:16 wer:245] reference:dạ bẩm thầy giờ đã muộn rồi à\n",
      "[NeMo I 2022-03-24 06:45:16 wer:246] predicted: ch h h\n",
      "[NeMo I 2022-03-24 06:45:16 wer:244] \n",
      "    \n",
      "[NeMo I 2022-03-24 06:45:16 wer:245] reference:những anh em dân tộc khác thì rất hiếu khách và cởi mở\n",
      "[NeMo I 2022-03-24 06:45:16 wer:246] predicted: cà c h h ch cà h h c h h\n",
      "[NeMo I 2022-03-24 06:45:16 wer:244] \n",
      "    \n",
      "[NeMo I 2022-03-24 06:45:16 wer:245] reference:vả lại\n",
      "[NeMo I 2022-03-24 06:45:16 wer:246] predicted: h\n",
      "[NeMo I 2022-03-24 06:45:16 wer:244] \n",
      "    \n",
      "[NeMo I 2022-03-24 06:45:16 wer:245] reference:để cho em học\n",
      "[NeMo I 2022-03-24 06:45:16 wer:246] predicted: ch h\n",
      "[NeMo I 2022-03-24 06:45:17 wer:244] \n",
      "    \n",
      "[NeMo I 2022-03-24 06:45:17 wer:245] reference:lập tức cơn đau lại nhói lên dữ dội\n",
      "[NeMo I 2022-03-24 06:45:17 wer:246] predicted: h ch ch h h h\n",
      "[NeMo I 2022-03-24 06:45:17 wer:244] \n",
      "    \n",
      "[NeMo I 2022-03-24 06:45:17 wer:245] reference:na ngoan của mẹ\n",
      "[NeMo I 2022-03-24 06:45:17 wer:246] predicted: ch h\n",
      "[NeMo I 2022-03-24 06:45:17 wer:244] \n",
      "    \n",
      "[NeMo I 2022-03-24 06:45:17 wer:245] reference:sau đó bị đấu đá đến nghẹt thở\n",
      "[NeMo I 2022-03-24 06:45:17 wer:246] predicted: c ch ch h h h\n",
      "[NeMo I 2022-03-24 06:45:17 wer:244] \n",
      "    \n",
      "[NeMo I 2022-03-24 06:45:17 wer:245] reference:những lời nói của quân khiến cho trinh như chết lặng\n",
      "[NeMo I 2022-03-24 06:45:17 wer:246] predicted: h ch hà ch h ch h th\n"
     ]
    },
    {
     "name": "stderr",
     "output_type": "stream",
     "text": [
      "Epoch 1, global step 53: val_wer reached 0.75558 (best 0.75558), saving model to \"/home/khoatlv/ASR-NEMO/experiments/ASR-Char-Model-Language-vi/2022-03-24_06-44-50/checkpoints/ASR-Char-Model-Language-vi--val_wer=0.7556-epoch=1.ckpt\" as top 3\n"
     ]
    }
   ],
   "source": [
    "print(\"Starting train model\")\n",
    "trainer.fit(asr_model)"
   ]
  },
  {
   "cell_type": "code",
   "execution_count": null,
   "metadata": {},
   "outputs": [],
   "source": [
    "# save_path = \"/home/khoatlv/models/quarznet/quartznet_12x1_trained.nemo\"\n",
    "# asr_model.save_to(save_path)"
   ]
  },
  {
   "cell_type": "code",
   "execution_count": null,
   "metadata": {},
   "outputs": [],
   "source": [
    "# asr_model.setup_test_data(config.model.test_ds)\n",
    "# trainer.test(asr_model, ckpt_path=None)"
   ]
  },
  {
   "cell_type": "code",
   "execution_count": null,
   "metadata": {},
   "outputs": [],
   "source": []
  }
 ],
 "metadata": {
  "interpreter": {
   "hash": "916dbcbb3f70747c44a77c7bcd40155683ae19c65e1c03b4aa3499c5328201f1"
  },
  "kernelspec": {
   "display_name": "Python 3.8.10 64-bit",
   "language": "python",
   "name": "python3"
  },
  "language_info": {
   "codemirror_mode": {
    "name": "ipython",
    "version": 3
   },
   "file_extension": ".py",
   "mimetype": "text/x-python",
   "name": "python",
   "nbconvert_exporter": "python",
   "pygments_lexer": "ipython3",
   "version": "3.8.10"
  },
  "orig_nbformat": 4
 },
 "nbformat": 4,
 "nbformat_minor": 2
}
