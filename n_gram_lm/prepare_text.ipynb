{
 "cells": [
  {
   "cell_type": "code",
   "execution_count": 56,
   "metadata": {},
   "outputs": [],
   "source": [
    "import os\n",
    "import re\n",
    "from functools import reduce\n",
    "from tqdm.auto import tqdm"
   ]
  },
  {
   "cell_type": "code",
   "execution_count": 31,
   "metadata": {},
   "outputs": [],
   "source": [
    "dir_path = \"/home/nhan/NovaIntechs/data/LM\"\n",
    "all_text_path = os.path.join(dir_path, \"all_text.txt\")"
   ]
  },
  {
   "cell_type": "code",
   "execution_count": 47,
   "metadata": {},
   "outputs": [
    {
     "name": "stdout",
     "output_type": "stream",
     "text": [
      "Numbef of files: 218\n",
      "Numbef of text files: 217\n",
      "Numbef of csv files: 1\n"
     ]
    }
   ],
   "source": [
    "def get_text_files_recur(dir_path):\n",
    "    list_files = []\n",
    "    if os.path.isfile(dir_path):\n",
    "        return dir_path\n",
    "    \n",
    "    for i in os.listdir(dir_path):\n",
    "        file_path = os.path.join(dir_path, i)\n",
    "        return_files = get_text_files_recur(file_path)\n",
    "        if type(return_files) is str: list_files.append(return_files)\n",
    "        else: list_files.extend(return_files)\n",
    "    \n",
    "    return list_files\n",
    "\n",
    "list_files = get_text_files_recur(dir_path)\n",
    "txt_files = [i for i in list_files if i.endswith('.txt')]\n",
    "csv_files = [i for i in list_files if i.endswith('.csv')]\n",
    "\n",
    "print(f\"Numbef of files: {len(list_files)}\")\n",
    "print(f\"Numbef of text files: {len(txt_files)}\")\n",
    "print(f\"Numbef of csv files: {len(csv_files)}\")"
   ]
  },
  {
   "cell_type": "code",
   "execution_count": 59,
   "metadata": {},
   "outputs": [
    {
     "data": {
      "text/plain": [
       "0     __label__thể_thao\n",
       "1      __label__âm_nhạc\n",
       "2    __label__nhịp_sống\n",
       "3    __label__công_nghệ\n",
       "4     __label__thể_thao\n",
       "Name: cat, dtype: object"
      ]
     },
     "execution_count": 59,
     "metadata": {},
     "output_type": "execute_result"
    }
   ],
   "source": [
    "import pandas as pd\n",
    "data = pd.read_csv(\"/home/nhan/NovaIntechs/data/LM/news_categories.csv\")"
   ]
  },
  {
   "cell_type": "code",
   "execution_count": 69,
   "metadata": {},
   "outputs": [
    {
     "name": "stdout",
     "output_type": "stream",
     "text": [
      "sanchez không dự trận khai màn nh anh cùng arsenal bóng đá anh zing vn tuyển thủ chile không kịp hồi phục thể lực để cùng pháo thủ thành london tham dự trận đầu tiên tại premier league 2015 2016 diễn ra ngày 9 8 arsenal tới singapore liverpool đổ bộ xuống thái lan hai đội bóng danh tiếng tại giải ngoại hạng anh bắt đầu có chuyến du đấu châu á thầy trò hlv brendan rodgers có mặt tại thái lan chuẩn bị cho trận đấu diễn ra ngày 14 7 trả lời phỏng vấn trong chuyến du đấu tại singapore hlv arsene wenger xác nhận tiền đạo alexis sanchez sẽ vắng mặt trong trận khai màn premier league theo chiến lược gia người pháp cựu ngôi sao barca cần được nghỉ ngơi sau khi tham dự copa america trên quê hương alexis sẽ trở lại arsenal ngày 3 8 các cầu thủ thường lấy lại thể lực trong khoảng 3 tuần mới có thể thi đấu alexis có thể nghỉ ít hơn tuy nhiên anh ấy chắc chắn không tham dự trận đấu đầu tiên của mùa giải mới trang bbc dẫn lại bài phỏng vấn của hlv wenger ngoài trận xông đất premier league sanchez cũng không góp mặt trong trận tranh community shield với chelsea bởi trận đấu này diễn ra ngày 2 8 một ngày trước khi chân sút 26 tuổi trở lại arsenal sanchez là nhân tố then chốt giúp chile lần đầu vô địch copa america ảnh bbc mùa giải vừa qua cựu tiền đạo barcelona thi đấu rất thuyết phục anh ghi 25 bàn sau 52 trận giúp pháo thủ vô địch fa cup và cán đích vị trí thứ 3 tại premier league theo đó arsenal giành vé dự vòng bảng champions league mùa tới tại copa america vừa qua sanchez chỉ ghi 1 bàn tuy nhiên giới chuyên môn đánh giá anh là một trong những mắt xích quan trọng nhất giúp chủ nhà chile tiến tới chung kết ở trận đấu cuối cùng sanchez và đồng đội xuất sắc đánh bại argentina để lần đầu vô địch giải đấu danh giá nhất nam mỹ theo lịch arsenal sẽ nổ tiếng súng lệnh tại premier league mùa này khi tiếp west ham trên sân nhà lúc 19h30 ngày 9 8 giống alexis sanchez bộ đôi hậu vệ pablo zabaleta và martin demichelis cũng không kịp cùng manchester city đá trận khai mạc premier league manchester united không nhận được sự phục vụ của angel di maria và marcos rojo bốn cầu thủ này đều đá trọn trận chung kết copa america cùng đội tuyển argentina arsenal f c câu lạc bộ bóng đá arsenal còn được biết đến với biệt danh pháo thủ là một câu lạc bộ bóng đá lớn tại anh có trụ sở ở holloway london câu lạc bộ hiện đang chơi ở giải bóng đá ngoại hạng anh là một trong những câu lạc bộ thành công nhất của bóng đá anh arsenal đã giành được tổng cộng 13 danh hiệu vô địch quốc gia năm 1913 đội bóng chuyển về phía bắc lấy sân vận động highbury làm sân nhà và thi đấu tại đó trong suốt 93 năm năm 2006 đội bóng chuyển đến sân vận động emirates và lấy đó làm sân nhà cho đến nay arsenal là câu lạc bộ kình địch với đội bóng cùng khu vực tottenham hotspur bạn có biết thierry henry là cầu thủ ghi bàn nhiều nhất cho câu lạc bộ với 228 bàn thắng trong những năm 1999 đến 2007 và đầu năm 2012 thành lập 1886 biệt danh pháo thủ sân vận động emirates\n"
     ]
    }
   ],
   "source": [
    "labels = set(data[\"cat\"].to_list())\n",
    "content = data[\"content\"].to_list()\n",
    "content = [i.replace(\"_\", \" \") for i in content]"
   ]
  },
  {
   "cell_type": "code",
   "execution_count": 65,
   "metadata": {},
   "outputs": [
    {
     "name": "stdout",
     "output_type": "stream",
     "text": [
      "{'__label__sức_khỏe', '__label__xuất_bản', '__label__phim_ảnh', '__label__công_nghệ', '__label__thời_trang', '__label__giải_trí', '__label__kinh_doanh', '__label__nhịp_sống', '__label__thể_thao', '__label__giáo_dục', '__label__ẩm_thực', '__label__du_lịch', '__label__pháp_luật', '__label__xe_360', '__label__thời_sự', '__label__sống_trẻ', '__label__âm_nhạc', '__label__thế_giới'}\n"
     ]
    }
   ],
   "source": []
  },
  {
   "cell_type": "code",
   "execution_count": 66,
   "metadata": {},
   "outputs": [
    {
     "name": "stdout",
     "output_type": "stream",
     "text": [
      "4654854 /home/nhan/NovaIntechs/data/LM/all_text.txt\n"
     ]
    }
   ],
   "source": [
    "if os.path.exists(all_text_path): os.remove(all_text_path)\n",
    "script = \"cat \"\n",
    "for i in list_files:\n",
    "    if i.endswith(\".txt\"): script += f\"{i} \"\n",
    "script += f\"> {all_text_path}\"\n",
    "\n",
    "os.system(f\"{script}\")\n",
    "! wc -l {all_text_path}"
   ]
  },
  {
   "cell_type": "code",
   "execution_count": 57,
   "metadata": {},
   "outputs": [
    {
     "name": "stdout",
     "output_type": "stream",
     "text": [
      "cat,content\n",
      "\n"
     ]
    }
   ],
   "source": [
    "chars_to_ignore_regex   = '[\\,\\?\\.\\!\\;\\:\\\"\\'\\(\\)\\{\\}\\“\\‘\\”\\…]'  # remove special character tokens\n",
    "\n",
    "def remove_special_characters(data):\n",
    "    data[\"text\"] = re.sub(chars_to_ignore_regex, '', data[\"text\"]).lower().strip()\n",
    "    return data\n",
    "\n",
    "# Processing pipeline\n",
    "def apply_preprocessors(manifest, preprocessors):\n",
    "    for processor in preprocessors:\n",
    "        for idx in tqdm(range(len(manifest)), desc=f\"Applying {processor.__name__}\"):\n",
    "            manifest[idx] = processor(manifest[idx])\n",
    "    return manifest\n",
    "\n",
    "def apply_preprocessors(manifest, preprocessors):\n",
    "    for processor in preprocessors:\n",
    "        for idx in tqdm(range(len(manifest)), desc=f\"Applying {processor.__name__}\"):\n",
    "            manifest[idx] = processor(manifest[idx])\n",
    "    return manifest\n",
    "\n",
    "# List of pre-processing functions\n",
    "PREPROCESSORS = [\n",
    "    remove_special_characters,\n",
    "]\n",
    "\n",
    "def processing_text(path):\n",
    "    with open(path, mode='r') as fin:\n",
    "        print(fin.readline())\n",
    "        \n",
    "\n",
    "processing_text(all_text_path)"
   ]
  }
 ],
 "metadata": {
  "interpreter": {
   "hash": "061510458e1849731f4c026b6a341fa4cb8c56c41319d65bd538e050b335dd3d"
  },
  "kernelspec": {
   "display_name": "Python 3.8.10 ('asr')",
   "language": "python",
   "name": "python3"
  },
  "language_info": {
   "codemirror_mode": {
    "name": "ipython",
    "version": 3
   },
   "file_extension": ".py",
   "mimetype": "text/x-python",
   "name": "python",
   "nbconvert_exporter": "python",
   "pygments_lexer": "ipython3",
   "version": "3.8.10"
  },
  "orig_nbformat": 4
 },
 "nbformat": 4,
 "nbformat_minor": 2
}
